{
 "cells": [
  {
   "cell_type": "code",
   "execution_count": 51,
   "metadata": {
    "collapsed": true
   },
   "outputs": [],
   "source": [
    "#Aufgabe 1\n",
    "#zuerst summe und produkt definiert, danach funktionen die mit Obergrenze als Argument eingegeben werden"
   ]
  },
  {
   "cell_type": "code",
   "execution_count": 20,
   "metadata": {
    "collapsed": false
   },
   "outputs": [
    {
     "name": "stderr",
     "output_type": "stream",
     "text": [
      "WARNING: Method definition sum(Any, Any) in module Main at In[11]:2 overwritten at In[20]:2.\n"
     ]
    },
    {
     "data": {
      "text/plain": [
       "sum (generic function with 1 method)"
      ]
     },
     "execution_count": 20,
     "metadata": {},
     "output_type": "execute_result"
    }
   ],
   "source": [
    "function sum(x,M)\n",
    "    s=0\n",
    "    for i in 1:M\n",
    "        s+=x(i)\n",
    "    end\n",
    "    return s\n",
    "end"
   ]
  },
  {
   "cell_type": "code",
   "execution_count": 21,
   "metadata": {
    "collapsed": false
   },
   "outputs": [
    {
     "name": "stderr",
     "output_type": "stream",
     "text": [
      "WARNING: Method definition prod(Any, Any) in module Main at In[12]:2 overwritten at In[21]:2.\n"
     ]
    },
    {
     "data": {
      "text/plain": [
       "prod (generic function with 1 method)"
      ]
     },
     "execution_count": 21,
     "metadata": {},
     "output_type": "execute_result"
    }
   ],
   "source": [
    "function prod(x,M)\n",
    "    p=1\n",
    "    for i in 1:M\n",
    "        p*=x(i)\n",
    "    end\n",
    "    return p\n",
    "end"
   ]
  },
  {
   "cell_type": "code",
   "execution_count": 22,
   "metadata": {
    "collapsed": false
   },
   "outputs": [
    {
     "name": "stderr",
     "output_type": "stream",
     "text": [
      "WARNING: Method definition wurzel(Any) in module Main at In[2]:2 overwritten at In[22]:2.\n"
     ]
    },
    {
     "data": {
      "text/plain": [
       "wurzel (generic function with 1 method)"
      ]
     },
     "execution_count": 22,
     "metadata": {},
     "output_type": "execute_result"
    }
   ],
   "source": [
    "function wurzel(x)\n",
    "    w=sqrt(x)\n",
    "    return w\n",
    "end"
   ]
  },
  {
   "cell_type": "code",
   "execution_count": 32,
   "metadata": {
    "collapsed": false
   },
   "outputs": [
    {
     "data": {
      "text/plain": [
       "logn (generic function with 1 method)"
      ]
     },
     "execution_count": 32,
     "metadata": {},
     "output_type": "execute_result"
    }
   ],
   "source": [
    "function logn(x)\n",
    "    w=ln(x)\n",
    "    return w\n",
    "end"
   ]
  },
  {
   "cell_type": "code",
   "execution_count": 44,
   "metadata": {
    "collapsed": false
   },
   "outputs": [
    {
     "name": "stderr",
     "output_type": "stream",
     "text": [
      "WARNING: Method definition f(Any) in module Main at In[41]:2 overwritten at In[44]:2.\n"
     ]
    },
    {
     "data": {
      "text/plain": [
       "f (generic function with 1 method)"
      ]
     },
     "execution_count": 44,
     "metadata": {},
     "output_type": "execute_result"
    }
   ],
   "source": [
    "function f(x)\n",
    "    w=cos(x*π/10)^2+0.1\n",
    "    return w\n",
    "end"
   ]
  },
  {
   "cell_type": "code",
   "execution_count": 42,
   "metadata": {
    "collapsed": false
   },
   "outputs": [
    {
     "name": "stderr",
     "output_type": "stream",
     "text": [
      "WARNING: Method definition g(Any) in module Main at In[40]:2 overwritten at In[42]:2.\n"
     ]
    },
    {
     "data": {
      "text/plain": [
       "g (generic function with 1 method)"
      ]
     },
     "execution_count": 42,
     "metadata": {},
     "output_type": "execute_result"
    }
   ],
   "source": [
    "function g(x)\n",
    "    w=sqrt(1+exp(-x))\n",
    "    return w\n",
    "end"
   ]
  },
  {
   "cell_type": "code",
   "execution_count": 50,
   "metadata": {
    "collapsed": false
   },
   "outputs": [
    {
     "name": "stdout",
     "output_type": "stream",
     "text": [
      "8.382332347441762, 4.787491742782046, 0.006600624999999999, 1.2928139034745716"
     ]
    }
   ],
   "source": [
    "print(sum(wurzel,5),\", \",sum(logn,5),\", \",prod(f,5),\", \",prod(g,5))"
   ]
  },
  {
   "cell_type": "code",
   "execution_count": 52,
   "metadata": {
    "collapsed": true
   },
   "outputs": [],
   "source": [
    "#Aufgabe 2 Fakultät"
   ]
  },
  {
   "cell_type": "code",
   "execution_count": 61,
   "metadata": {
    "collapsed": false
   },
   "outputs": [
    {
     "data": {
      "text/plain": [
       "fak (generic function with 2 methods)"
      ]
     },
     "execution_count": 61,
     "metadata": {},
     "output_type": "execute_result"
    }
   ],
   "source": [
    "function fak(n,p0)\n",
    "    p=p0\n",
    "    for i in 1:n\n",
    "        p*=i\n",
    "    end\n",
    "    return p\n",
    "end"
   ]
  },
  {
   "cell_type": "code",
   "execution_count": 64,
   "metadata": {
    "collapsed": false
   },
   "outputs": [
    {
     "name": "stdout",
     "output_type": "stream",
     "text": [
      "-8764578968847253504, 2.6525285981219103e32, 265252859812191058636308480000000"
     ]
    }
   ],
   "source": [
    "print(fak(30,1),\", \", fak(30,1.0),\", \", fak(30,BigInt(1)))"
   ]
  },
  {
   "cell_type": "code",
   "execution_count": 65,
   "metadata": {
    "collapsed": true
   },
   "outputs": [],
   "source": [
    "#Aufgabe 3 Zahlensysteme"
   ]
  },
  {
   "cell_type": "code",
   "execution_count": 66,
   "metadata": {
    "collapsed": true
   },
   "outputs": [],
   "source": [
    "#a)"
   ]
  },
  {
   "cell_type": "code",
   "execution_count": 74,
   "metadata": {
    "collapsed": false
   },
   "outputs": [
    {
     "name": "stderr",
     "output_type": "stream",
     "text": [
      "WARNING: Method definition zu_dezimal(Any, Any) in module Main at In[72]:2 overwritten at In[74]:2.\n"
     ]
    },
    {
     "data": {
      "text/plain": [
       "zu_dezimal (generic function with 1 method)"
      ]
     },
     "execution_count": 74,
     "metadata": {},
     "output_type": "execute_result"
    }
   ],
   "source": [
    "function zu_dezimal(zahl,b)\n",
    "    d=0\n",
    "    l=length(zahl)\n",
    "    for i in 1:l\n",
    "        d+=zahl[l-i+1]*b^(i-1)\n",
    "    end\n",
    "    return d\n",
    "end"
   ]
  },
  {
   "cell_type": "code",
   "execution_count": 81,
   "metadata": {
    "collapsed": false
   },
   "outputs": [
    {
     "name": "stdout",
     "output_type": "stream",
     "text": [
      "1176, 140, 728"
     ]
    }
   ],
   "source": [
    "#b)\n",
    "print(zu_dezimal([5,2,4,0],6),\", \",zu_dezimal([1,2,0,1,2],3), \", \",zu_dezimal([8,8,8],9))"
   ]
  },
  {
   "cell_type": "code",
   "execution_count": 95,
   "metadata": {
    "collapsed": false
   },
   "outputs": [
    {
     "name": "stdout",
     "output_type": "stream",
     "text": [
      "11 bei Basis 2, 7 bei Basis 3, 6 bei Basis 4, 5 bei Basis 5, 4 bei Basis 6, 4 bei Basis 7, 4 bei Basis 8, 4 bei Basis 9, "
     ]
    }
   ],
   "source": [
    "#c)\n",
    "dez=1111\n",
    "for n in 2:9\n",
    "    b=n\n",
    "i=0\n",
    "x=0\n",
    "while x<dez\n",
    "    i+=1\n",
    "    x=b^i\n",
    "end\n",
    "    print(i,\" bei Basis \", b,\", \")\n",
    "end"
   ]
  },
  {
   "cell_type": "code",
   "execution_count": 79,
   "metadata": {
    "collapsed": true
   },
   "outputs": [],
   "source": [
    "#Aufgabe 4\n",
    "\n",
    "#a) die Zeile p[i*j] = 1 wird N-1*N-1 mal also 49^2 mal aufgerufen\n",
    "#b) das Programm gibt eine Liste von 1 bis 100 zurück, neben den Primzahlen steht eine 0 neben den anderen 1"
   ]
  },
  {
   "cell_type": "code",
   "execution_count": 78,
   "metadata": {
    "collapsed": false
   },
   "outputs": [
    {
     "name": "stdout",
     "output_type": "stream",
     "text": [
      "1 0\n",
      "2 0\n",
      "3 0\n",
      "4 1\n",
      "5 0\n",
      "6 1\n",
      "7 0\n",
      "8 1\n",
      "9 1\n",
      "10 1\n",
      "11 0\n",
      "12 1\n",
      "13 0\n",
      "14 1\n",
      "15 1\n",
      "16 1\n",
      "17 0\n",
      "18 1\n",
      "19 0\n",
      "20 1\n",
      "21 1\n",
      "22 1\n",
      "23 0\n",
      "24 1\n",
      "25 1\n",
      "26 1\n",
      "27 1\n",
      "28 1\n",
      "29 0\n",
      "30 1\n",
      "31 0\n",
      "32 1\n",
      "33 1\n",
      "34 1\n",
      "35 1\n",
      "36 1\n",
      "37 0\n",
      "38 1\n",
      "39 1\n",
      "40 1\n",
      "41 0\n",
      "42 1\n",
      "43 0\n",
      "44 1\n",
      "45 1\n",
      "46 1\n",
      "47 0\n",
      "48 1\n",
      "49 1\n",
      "50 1\n",
      "51 1\n",
      "52 1\n",
      "53 0\n",
      "54 1\n",
      "55 1\n",
      "56 1\n",
      "57 1\n",
      "58 1\n",
      "59 0\n",
      "60 1\n",
      "61 0\n",
      "62 1\n",
      "63 1\n",
      "64 1\n",
      "65 1\n",
      "66 1\n",
      "67 0\n",
      "68 1\n",
      "69 1\n",
      "70 1\n",
      "71 0\n",
      "72 1\n",
      "73 0\n",
      "74 1\n",
      "75 1\n",
      "76 1\n",
      "77 1\n",
      "78 1\n",
      "79 0\n",
      "80 1\n",
      "81 1\n",
      "82 1\n",
      "83 0\n",
      "84 1\n",
      "85 1\n",
      "86 1\n",
      "87 1\n",
      "88 1\n",
      "89 0\n",
      "90 1\n",
      "91 1\n",
      "92 1\n",
      "93 1\n",
      "94 1\n",
      "95 1\n",
      "96 1\n",
      "97 0\n",
      "98 1\n",
      "99 1\n",
      "100 1\n"
     ]
    }
   ],
   "source": [
    "N=50\n",
    "p = Array(Int64,N*N)\n",
    "for i in 1:N*N\n",
    "p[i] = 0\n",
    "end\n",
    "for i in 2:N\n",
    "for j in 2:N\n",
    "p[i*j] = 1\n",
    "end\n",
    "end\n",
    "for i in 1:100\n",
    "println(i,\" \",p[i])\n",
    "end"
   ]
  },
  {
   "cell_type": "code",
   "execution_count": null,
   "metadata": {
    "collapsed": true
   },
   "outputs": [],
   "source": []
  }
 ],
 "metadata": {
  "kernelspec": {
   "display_name": "Julia 0.5.1",
   "language": "julia",
   "name": "julia-0.5"
  },
  "language_info": {
   "file_extension": ".jl",
   "mimetype": "application/julia",
   "name": "julia",
   "version": "0.5.1"
  }
 },
 "nbformat": 4,
 "nbformat_minor": 1
}
